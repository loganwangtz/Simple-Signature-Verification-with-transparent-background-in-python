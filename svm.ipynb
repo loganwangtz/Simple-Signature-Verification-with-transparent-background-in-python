{
 "cells": [
  {
   "cell_type": "code",
   "execution_count": 6,
   "metadata": {
    "collapsed": true
   },
   "outputs": [],
   "source": [
    "import numpy as np\n",
    "import json\n",
    "from matplotlib import (pyplot as plt, patches as patches)\n",
    "from PIL import Image # pip install pillow\n",
    "from skimage.filters import threshold_local # pip install scikit-image\n",
    "from scipy.ndimage.measurements import center_of_mass\n",
    "from sklearn import svm\n",
    "import os\n",
    "# from sklearn.model_selection import train_test_split, for cross-validation purposes\n",
    "# from sklearn.model_selection import KFold, for k-fold cross-validation purposes"
   ]
  },
  {
   "cell_type": "code",
   "execution_count": 7,
   "metadata": {},
   "outputs": [],
   "source": [
    "model = None\n",
    "mapping = None\n",
    "\n",
    "def rotate_bbox_area(img, deg):\n",
    "    box = img.rotate(deg, expand=True).getbbox()\n",
    "    return (box[3] - box[1]) * (box[2] - box[0])\n",
    "\n",
    "def rotate_crop(img, deg, padding=0):\n",
    "    img_rotate = img.rotate(deg, expand=True, resample=Image.BILINEAR)\n",
    "    box = img_rotate.getbbox()\n",
    "    if padding > 0:\n",
    "        box = np.asarray(box) + [-padding, -padding, +padding, +padding]\n",
    "    return img_rotate.crop(box)\n",
    "\n",
    "tol_deg = 10\n",
    "# smallest bounding box wihin -10~10 degrees rotation\n",
    "def opt_rotate(img, padding=0):\n",
    "    opt_deg = np.argmin(\n",
    "        [rotate_bbox_area(img, i) for i in range(-tol_deg,tol_deg+1)]) - tol_deg\n",
    "    return rotate_crop(img, opt_deg, padding)\n",
    "\n",
    "# downsampling\n",
    "def img_reduce(img, side=28, mode=Image.ANTIALIAS):\n",
    "    h = side + 1\n",
    "    w = int(side * img.width / img.height) + 1\n",
    "    img_reduced = img.copy()\n",
    "    # the reduced image size is (w-1, h-1)\n",
    "    img_reduced.thumbnail((w, h), mode)\n",
    "    return img_reduced\n",
    "\n",
    "\n",
    "# convert PIL.Image object to numpy.Array, for training\n",
    "def img2arr(img):\n",
    "    return np.asarray(img.getdata(), dtype=np.uint8).reshape(img.height, img.width, -1)\n",
    "\n",
    "\n",
    "# process single signature with transparent background\n",
    "def process_one(img):\n",
    "    return img_reduce(opt_rotate(img, padding=1).convert('LA'))\n",
    "\n",
    "# shuffle two numpy arraies in unison form, for ramdom spliting use\n",
    "def shuffle_in_unison(a, b):\n",
    "    assert len(a) == len(b)\n",
    "    shuffled_a = np.empty(a.shape, dtype=a.dtype)\n",
    "    shuffled_b = np.empty(b.shape, dtype=b.dtype)\n",
    "    permutation = np.random.permutation(len(a))\n",
    "    for old_index, new_index in enumerate(permutation):\n",
    "        shuffled_a[new_index] = a[old_index]\n",
    "        shuffled_b[new_index] = b[old_index]\n",
    "    return shuffled_a, shuffled_b\n",
    "\n",
    "# Obtaining images and labels with image normalization and augmentation\n",
    "# Crop the image first and create a dictionary to store the cropped image as value\n",
    "# and the image path as key, for later use in test()\n",
    "\n",
    "def readcsv(filename):\n",
    "    global mapping\n",
    "    data = np.genfromtxt(filename, delimiter = \",\", dtype = \"U75\", skip_header = 2)\n",
    "\n",
    "    # Obtaining images and labels\n",
    "    img_path = data[:,3]\n",
    "    label = data[:,4]\n",
    "\n",
    "    # Ramdom spliting the data\n",
    "    img_path, label = shuffle_in_unison(img_path, label)\n",
    "    Xlist = []\n",
    "    ylist = []\n",
    "    X_list_path = []\n",
    "    mapping = {}\n",
    "    idx = 0\n",
    "    cwd = os.getcwd()\n",
    "\n",
    "    for item in img_path:\n",
    "\n",
    "        #if using whole image\n",
    "        #X_list.append(img2arr(Image.open(cwd + '\\\\' + item).convert('LA')).flatten)\n",
    "        #if label[idx] == 'genuine':\n",
    "        #    ylist.append(1)\n",
    "        #else:\n",
    "        #    ylist.append(0)\n",
    "        # X_list_path.append(cwd + '\\\\' + item)\n",
    "\n",
    "\n",
    "        #if using partial image, eg. the 28*28 sample\n",
    "        #data normalization using the code provided\n",
    "        img = Image.open(cwd + '\\\\' + item).convert('LA')\n",
    "        img_reduced = process_one(img)\n",
    "        img_arr = img2arr(img_reduced)[:,:,-1]\n",
    "        center = np.round(center_of_mass(img_arr))\n",
    "        h = img_arr.shape[0]\n",
    "        #after trials, h//3 will obtain better squared shape signatures than h//2\n",
    "        left = int(center[1]) - h//3\n",
    "        mat = img_arr[:, left:left+h]\n",
    "        #Filter our those images that are not 28*28, all image for training should have the same size\n",
    "        if mat.shape[1] == 28:\n",
    "            Xlist.append(mat.flatten())\n",
    "            # print(cwd + '\\\\' + item)\n",
    "            # print(idx)\n",
    "            X_list_path.append(cwd + '\\\\' + item)\n",
    "            if label[idx] == 'genuine':\n",
    "                ylist.append(1)\n",
    "            else:\n",
    "                ylist.append(0)\n",
    "        idx += 1\n",
    "    X =  np.array(Xlist)\n",
    "    y = np.array(ylist)\n",
    "    X_path = np.array(X_list_path)\n",
    "\n",
    "    # trying n-fold cross validation with 70% data used for training\n",
    "    # X_train, X_test, y_train, y_test = train_test_split(X, y, test_size=0.3, random_state=0)\n",
    "\n",
    "    # trying K-fold cross-validation, in this example we set k = 4\n",
    "    # kf = KFold(n_splits=4)\n",
    "    # kf.get_n_splits(X)\n",
    "    # for train_index, test_index in kf.split(X):\n",
    "        #X_train, X_test = X[train_index], X[test_index]\n",
    "        #y_train, y_test = y[train_index], y[test_index]\n",
    "\n",
    "    # Use random shuffle with 300 sample for training for simplicity\n",
    "    X_train = X[:300]\n",
    "    X_test= X[300:]\n",
    "    X_test_path = X_path[300:]\n",
    "    y_train = y[:300]\n",
    "    y_test = y[300:]\n",
    "    # as test() requires image_path as input but the training and testing function\n",
    "    # requires numpy array as input, a dictionary was created to map the image path\n",
    "    # to the cropped image (28*28)\n",
    "\n",
    "    mapping = dict(zip(X_test_path, X_test))\n",
    "    return  X_train, X_test, y_train, y_test, X_test_path\n",
    "    #print(mapping)\n",
    "\n",
    "def train():\n",
    "    global model\n",
    "    X_train, X_test, y_train, y_test, X_test_path = readcsv('png.csv')\n",
    "    # Training with SVM with different kernals and C, gamma\n",
    "    model = svm.SVC(kernel = 'linear', C = 1, gamma = 1)\n",
    "    #model = svm.SVC(kernel = 'linear', C = 0.8, gamma = 1)\n",
    "    #model = svm.SVC(kernel = 'linear', C = 0.5, gamma = 1)\n",
    "    #model = svm.SVC(kernel = 'linear', C = 1, gamma = 2)\n",
    "    #model = svm.SVC(kernel = 'linear', C = 0.8, gamma = 2)\n",
    "    #model = svm.SVC(kernel = 'linear', C = 0.5, gamma = 2)\n",
    "    #model = svm.SVC(kernel = 'poly', gamma = 2)\n",
    "    #model = svm.SVC(kernel = 'rbf', gamma = 2)\n",
    "    model.fit(X_train, y_train)\n",
    "    model.score(X_train, y_train)\n",
    "    return model, X_test_path, y_test\n",
    "\n",
    "def test(path_str):\n",
    "    global model\n",
    "    global mapping\n",
    "    # Predicting the result\n",
    "    return model.predict([mapping[path_str]])[0]\n"
   ]
  },
  {
   "cell_type": "code",
   "execution_count": 8,
   "metadata": {},
   "outputs": [
    {
     "name": "stdout",
     "output_type": "stream",
     "text": [
      "The prediction accuracy is 98.91%\n"
     ]
    }
   ],
   "source": [
    "if __name__ == '__main__':\n",
    "\n",
    "    predicted = []\n",
    "    model, X_test_path, y_test = train()\n",
    "    for item in X_test_path:\n",
    "        path = item\n",
    "        predicted.append(test(path))\n",
    "    # Comparing the prediction with test labels, to see how accurate our model is\n",
    "    num = 0\n",
    "    for i in range(len(y_test)):\n",
    "        if predicted[i] == y_test[i]:\n",
    "            num += 1\n",
    "    print(\"The prediction accuracy is \" + str(format(num/len(y_test)*100,'.2f')) + '%')"
   ]
  },
  {
   "cell_type": "code",
   "execution_count": 174,
   "metadata": {},
   "outputs": [
    {
     "name": "stdout",
     "output_type": "stream",
     "text": [
      "392 392\n"
     ]
    }
   ],
   "source": []
  },
  {
   "cell_type": "code",
   "execution_count": 225,
   "metadata": {},
   "outputs": [
    {
     "name": "stdout",
     "output_type": "stream",
     "text": [
      "The prediction accuracy is 100.00%\n"
     ]
    }
   ],
   "source": [
    "\n"
   ]
  },
  {
   "cell_type": "code",
   "execution_count": 189,
   "metadata": {},
   "outputs": [
    {
     "name": "stdout",
     "output_type": "stream",
     "text": [
      "The prediction accuracy is 100.0%\n"
     ]
    }
   ],
   "source": [
    "    "
   ]
  }
 ],
 "metadata": {
  "kernelspec": {
   "display_name": "Python 3",
   "language": "python",
   "name": "python3"
  },
  "language_info": {
   "codemirror_mode": {
    "name": "ipython",
    "version": 3
   },
   "file_extension": ".py",
   "mimetype": "text/x-python",
   "name": "python",
   "nbconvert_exporter": "python",
   "pygments_lexer": "ipython3",
   "version": "3.6.3"
  }
 },
 "nbformat": 4,
 "nbformat_minor": 2
}
